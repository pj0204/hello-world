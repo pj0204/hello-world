{
  "nbformat": 4,
  "nbformat_minor": 0,
  "metadata": {
    "colab": {
      "name": "Leccion1.ipynb",
      "provenance": [],
      "collapsed_sections": [],
      "authorship_tag": "ABX9TyN8wJrShB5kWo1MRw9JILIg",
      "include_colab_link": true
    },
    "kernelspec": {
      "name": "python3",
      "display_name": "Python 3"
    }
  },
  "cells": [
    {
      "cell_type": "markdown",
      "metadata": {
        "id": "view-in-github",
        "colab_type": "text"
      },
      "source": [
        "<a href=\"https://colab.research.google.com/github/pj0204/hello-world/blob/master/Practica1.ipynb\" target=\"_parent\"><img src=\"https://colab.research.google.com/assets/colab-badge.svg\" alt=\"Open In Colab\"/></a>"
      ]
    },
    {
      "cell_type": "code",
      "metadata": {
        "id": "Q9VxSXyxfgOt",
        "colab_type": "code",
        "outputId": "3e3a6b56-75a5-4bfe-ef2b-ca5f0cac519d",
        "colab": {
          "base_uri": "https://localhost:8080/",
          "height": 34
        }
      },
      "source": [
        "#Iniciando aprendizaje Python and Google Colab\n",
        "print ('Hola a todos')"
      ],
      "execution_count": 0,
      "outputs": [
        {
          "output_type": "stream",
          "text": [
            "Hola a todos\n"
          ],
          "name": "stdout"
        }
      ]
    },
    {
      "cell_type": "code",
      "metadata": {
        "id": "H2onhejGg4o3",
        "colab_type": "code",
        "outputId": "345bfbf0-e9ae-471e-a8da-724b794d069f",
        "colab": {
          "base_uri": "https://localhost:8080/",
          "height": 34
        }
      },
      "source": [
        "#Iniciando con Variables\n",
        "Nombre='Jose' #Variable de texto\n",
        "Edad = 48 #Variable numerica\n",
        "Altura = 1.78 #Variable numerica\n",
        "#Para mostrar los valores de las variables uso el comando print\n",
        "print('Mi nombre es:',Nombre, 'y tengo:',Edad, 'de edad')"
      ],
      "execution_count": 0,
      "outputs": [
        {
          "output_type": "stream",
          "text": [
            "Mi nombre es: Jose y tengo: 48 de edad\n"
          ],
          "name": "stdout"
        }
      ]
    },
    {
      "cell_type": "code",
      "metadata": {
        "id": "VWqIbHgij04_",
        "colab_type": "code",
        "colab": {}
      },
      "source": [
        ""
      ],
      "execution_count": 0,
      "outputs": []
    },
    {
      "cell_type": "code",
      "metadata": {
        "id": "BcwCXUC0jXxF",
        "colab_type": "code",
        "outputId": "da841682-69a3-4207-fdcf-e6c85f6fba0e",
        "colab": {
          "base_uri": "https://localhost:8080/",
          "height": 34
        }
      },
      "source": [
        "#Ejercicio\n",
        "Nombre = 'Jose Antonio'\n",
        "Mat1 = 'Matematica'\n",
        "Mat2 = 'Fisica'\n",
        "pmat1 = 19\n",
        "pmat2 = 18\n",
        "#mostrando los resultados\n",
        "print('Mi nombre es',Nombre,'Mi materia preferida es', Mat1,'con promedio de:',pmat1)"
      ],
      "execution_count": 0,
      "outputs": [
        {
          "output_type": "stream",
          "text": [
            "Mi nombre es Jose Antonio Mi materia preferida es Matematica con promedio de: 19\n"
          ],
          "name": "stdout"
        }
      ]
    },
    {
      "cell_type": "code",
      "metadata": {
        "id": "acWECkjhkbxM",
        "colab_type": "code",
        "outputId": "326d7253-f1e3-49e5-eea6-7bbaf49088d6",
        "colab": {
          "base_uri": "https://localhost:8080/",
          "height": 119
        }
      },
      "source": [
        "#Si queremos hacer calculos con variables numericas\n",
        "x = 15\n",
        "y = 5\n",
        "z = x + y\n",
        "#Si queremos ver las variables y sus valores:\n",
        "print('El valor de x es', x)\n",
        "print('El valor de y es', y)\n",
        "print('El valor de la suma de x e y es z=', z)\n",
        "#Tambien podemos hacer otras operaciones:\n",
        "Resta = x-y\n",
        "Div = x/y\n",
        "#Y ahora sus valores son\n",
        "print('Ahora tenemos las siguientes operaciones:')\n",
        "print('La resta de x e y es R=', Resta)\n",
        "print('La division entre x e y es C=', Div)"
      ],
      "execution_count": 0,
      "outputs": [
        {
          "output_type": "stream",
          "text": [
            "El valor de x es 15\n",
            "El valor de y es 5\n",
            "El valor de la suma de x e y es z= 20\n",
            "Ahora tenemos las siguientes operaciones:\n",
            "La resta de x e y es R= 10\n",
            "La division entre x e y es C= 3.0\n"
          ],
          "name": "stdout"
        }
      ]
    },
    {
      "cell_type": "code",
      "metadata": {
        "id": "hTgMT4KvoZg1",
        "colab_type": "code",
        "outputId": "8951980e-2b72-42a8-e63e-9303469b80e5",
        "colab": {
          "base_uri": "https://localhost:8080/",
          "height": 51
        }
      },
      "source": [
        "import math\n",
        "#Veamos alguna operacion matematica\n",
        "#Por ejemplo el factorial de un numero\n",
        "valor = 5\n",
        "R = math.factorial(valor)\n",
        "print('El factorial de', valor, 'es')\n",
        "print(R)"
      ],
      "execution_count": 0,
      "outputs": [
        {
          "output_type": "stream",
          "text": [
            "El factorial de 5 es\n",
            "120\n"
          ],
          "name": "stdout"
        }
      ]
    },
    {
      "cell_type": "code",
      "metadata": {
        "id": "EV66n-K56iEH",
        "colab_type": "code",
        "outputId": "786f4292-9ad3-47f5-ba98-86787986967c",
        "colab": {
          "base_uri": "https://localhost:8080/",
          "height": 34
        }
      },
      "source": [
        "#Condicionales\n",
        "#Tales como If, else, ... por ese orden\n",
        "nota = 12\n",
        "if nota<13:\n",
        "  print('Su nota es Reprobado')\n",
        "else:\n",
        "  print('Su nota es Aprobado')\n"
      ],
      "execution_count": 0,
      "outputs": [
        {
          "output_type": "stream",
          "text": [
            "Su nota es Reprobado\n"
          ],
          "name": "stdout"
        }
      ]
    },
    {
      "cell_type": "code",
      "metadata": {
        "id": "ZqLkGJ0U7vbS",
        "colab_type": "code",
        "outputId": "2d3ded76-959c-4d3f-fe01-e37e7f8094ff",
        "colab": {
          "base_uri": "https://localhost:8080/",
          "height": 51
        }
      },
      "source": [
        "#Ejercicio decir si es mayor de edad o no\n",
        "edad = 18\n",
        "if edad<18:\n",
        "  print('Su edad es', edad,'por lo tanto')\n",
        "  print('Usted es menor de edad')\n",
        "else:\n",
        "  print ('Si su edad es mayor de', edad)\n",
        "  print('Usted es mayor de edad')\n"
      ],
      "execution_count": 0,
      "outputs": [
        {
          "output_type": "stream",
          "text": [
            "Si su edad es mayor de 18\n",
            "Usted es mayor de edad\n"
          ],
          "name": "stdout"
        }
      ]
    },
    {
      "cell_type": "code",
      "metadata": {
        "id": "AZTn_ppa_OqL",
        "colab_type": "code",
        "outputId": "b3520d18-543c-48b8-922d-30a0f626dfd2",
        "colab": {
          "base_uri": "https://localhost:8080/",
          "height": 34
        }
      },
      "source": [
        "#Cuando hay mas de una condicion\n",
        "pulso=50\n",
        "if pulso==70:\n",
        "  print('Tiene su pulso normal')\n",
        "elif pulso<70:\n",
        "  print('Su pulso esta por debajo de lo normal')\n",
        "else:\n",
        "  print('Cuidado su pulso esta acelerado')"
      ],
      "execution_count": 0,
      "outputs": [
        {
          "output_type": "stream",
          "text": [
            "Su pulso esta por debajo de lo normal\n"
          ],
          "name": "stdout"
        }
      ]
    },
    {
      "cell_type": "code",
      "metadata": {
        "id": "lxvcPt0qDRke",
        "colab_type": "code",
        "outputId": "2dc9bbb0-dd8d-4c66-acc4-071e3023687b",
        "colab": {
          "base_uri": "https://localhost:8080/",
          "height": 34
        }
      },
      "source": [
        "#Comparando dos numeros\n",
        "A = 1\n",
        "B = 10\n",
        "if A>B:\n",
        "  print('El numero', A,'es mayor que', B)\n",
        "elif A==B:\n",
        "  print('Los numero son iguales')\n",
        "else:\n",
        "  print('El numero', B, 'es mayor que',A)"
      ],
      "execution_count": 0,
      "outputs": [
        {
          "output_type": "stream",
          "text": [
            "El numero 10 es mayor que 1\n"
          ],
          "name": "stdout"
        }
      ]
    },
    {
      "cell_type": "code",
      "metadata": {
        "id": "HDc2pIbpHL7E",
        "colab_type": "code",
        "outputId": "4407d4f2-d2fe-4588-b1a0-77cc1c6776d2",
        "colab": {
          "base_uri": "https://localhost:8080/",
          "height": 34
        }
      },
      "source": [
        "#Comparando tres numeros\n",
        "A=1\n",
        "B=80\n",
        "C=30\n",
        "if A>B and A>C:\n",
        "  print('El numero mayor es',A)\n",
        "elif B>A and B>C:\n",
        "  print('El numero mayor es',B)\n",
        "else:\n",
        "  print('El numero mayor es',C)"
      ],
      "execution_count": 0,
      "outputs": [
        {
          "output_type": "stream",
          "text": [
            "El numero mayor es 80\n"
          ],
          "name": "stdout"
        }
      ]
    },
    {
      "cell_type": "code",
      "metadata": {
        "id": "txEHn4o0Jr4s",
        "colab_type": "code",
        "outputId": "d4c7425b-69ed-48fa-9c22-f66989cd4c9b",
        "colab": {
          "base_uri": "https://localhost:8080/",
          "height": 170
        }
      },
      "source": [
        "#Bucle Ascendente. i Se llama iterador o contador \n",
        "i=30\n",
        "for i in range(3,i,3): #range(inicio,hasta,pasos)\n",
        "  print(i)"
      ],
      "execution_count": 0,
      "outputs": [
        {
          "output_type": "stream",
          "text": [
            "3\n",
            "6\n",
            "9\n",
            "12\n",
            "15\n",
            "18\n",
            "21\n",
            "24\n",
            "27\n"
          ],
          "name": "stdout"
        }
      ]
    },
    {
      "cell_type": "code",
      "metadata": {
        "id": "03thvH3nQ7Hc",
        "colab_type": "code",
        "outputId": "599c434d-c79c-4b55-8845-41c92d248205",
        "colab": {
          "base_uri": "https://localhost:8080/",
          "height": 374
        }
      },
      "source": [
        "#Bucle Descendente\n",
        "j=40\n",
        "print('La cuenta regresiva es')\n",
        "for j in range(40,0,-2):\n",
        "  print(j)"
      ],
      "execution_count": 0,
      "outputs": [
        {
          "output_type": "stream",
          "text": [
            "La cuenta regresiva es\n",
            "40\n",
            "38\n",
            "36\n",
            "34\n",
            "32\n",
            "30\n",
            "28\n",
            "26\n",
            "24\n",
            "22\n",
            "20\n",
            "18\n",
            "16\n",
            "14\n",
            "12\n",
            "10\n",
            "8\n",
            "6\n",
            "4\n",
            "2\n"
          ],
          "name": "stdout"
        }
      ]
    },
    {
      "cell_type": "code",
      "metadata": {
        "id": "MuIdm3buR6Go",
        "colab_type": "code",
        "outputId": "04facd97-c3bd-4782-ab9e-8d31336f7d9e",
        "colab": {
          "base_uri": "https://localhost:8080/",
          "height": 187
        }
      },
      "source": [
        "#Tabla de multiplicar\n",
        "#Elegir el numero de la tabla \n",
        "n=9\n",
        "for k in range(10) :\n",
        "   print(n,'x',k, '=',n*k)"
      ],
      "execution_count": 0,
      "outputs": [
        {
          "output_type": "stream",
          "text": [
            "9 x 0 = 0\n",
            "9 x 1 = 9\n",
            "9 x 2 = 18\n",
            "9 x 3 = 27\n",
            "9 x 4 = 36\n",
            "9 x 5 = 45\n",
            "9 x 6 = 54\n",
            "9 x 7 = 63\n",
            "9 x 8 = 72\n",
            "9 x 9 = 81\n"
          ],
          "name": "stdout"
        }
      ]
    },
    {
      "cell_type": "code",
      "metadata": {
        "id": "pDCMWhGrhaGV",
        "colab_type": "code",
        "outputId": "bfa54dca-9e59-41b4-dc61-e8e3a5149dfa",
        "colab": {
          "base_uri": "https://localhost:8080/",
          "height": 272
        }
      },
      "source": [
        "#Listas\n",
        "lista=[1, 2, 3, 4]\n",
        "print(lista)\n",
        "lista2=['jose','pedro','maria']\n",
        "print(lista2)\n",
        "lista3=['juan','jean',1,45,6,'jose','rosa']\n",
        "print(lista3)\n",
        "print(lista[1])\n",
        "print(lista3[5])\n",
        "#Longitud de una lista\n",
        "len(lista3)\n",
        "print('Asi tenemos la longitud de la lista 3 es',len(lista3))\n",
        "#Mostrar los elementos de la lista\n",
        "print('A partir de aca tenemos la lista 3')\n",
        "for l in range(len(lista3)):\n",
        "  print(l, lista3[l])\n",
        "#Añadiendo datos a la lista\n",
        "lista3.append('vicente')\n",
        "print(lista3)"
      ],
      "execution_count": 0,
      "outputs": [
        {
          "output_type": "stream",
          "text": [
            "[1, 2, 3, 4]\n",
            "['jose', 'pedro', 'maria']\n",
            "['juan', 'jean', 1, 45, 6, 'jose', 'rosa']\n",
            "2\n",
            "jose\n",
            "Asi tenemos la longitud de la lista 3 es 7\n",
            "A partir de aca tenemos la lista 3\n",
            "0 juan\n",
            "1 jean\n",
            "2 1\n",
            "3 45\n",
            "4 6\n",
            "5 jose\n",
            "6 rosa\n",
            "['juan', 'jean', 1, 45, 6, 'jose', 'rosa', 'vicente']\n"
          ],
          "name": "stdout"
        }
      ]
    },
    {
      "cell_type": "code",
      "metadata": {
        "id": "gz1cZXfnq38S",
        "colab_type": "code",
        "outputId": "f4624742-3c8b-4154-f300-ca9827f83604",
        "colab": {
          "base_uri": "https://localhost:8080/",
          "height": 34
        }
      },
      "source": [
        "#Para conocer el indice de un elemento de la lista\n",
        "lista3.index('jose')"
      ],
      "execution_count": 0,
      "outputs": [
        {
          "output_type": "execute_result",
          "data": {
            "text/plain": [
              "5"
            ]
          },
          "metadata": {
            "tags": []
          },
          "execution_count": 118
        }
      ]
    },
    {
      "cell_type": "code",
      "metadata": {
        "id": "lyKuqV74sTUs",
        "colab_type": "code",
        "outputId": "9a44472d-bc22-4d55-9e8b-847cfaa76b4d",
        "colab": {
          "base_uri": "https://localhost:8080/",
          "height": 136
        }
      },
      "source": [
        "#Una lista de alumnos con sus respectivas calificaciones\n",
        "alumnos=['jose','pedro','carlos','antonio','maria','juan']\n",
        "notas=[12,12,13,10,8,19]\n",
        "len(alumnos)\n",
        "len(notas)\n",
        "if len(alumnos)==len(notas):\n",
        "  print('Las listas tienen la misma longitud')\n",
        "for c in range(len(alumnos)):\n",
        "  print('La nota de',alumnos[c],'es',notas[c])"
      ],
      "execution_count": 0,
      "outputs": [
        {
          "output_type": "stream",
          "text": [
            "Las listas tienen la misma longitud\n",
            "La nota de jose es 12\n",
            "La nota de pedro es 12\n",
            "La nota de carlos es 13\n",
            "La nota de antonio es 10\n",
            "La nota de maria es 8\n",
            "La nota de juan es 19\n"
          ],
          "name": "stdout"
        }
      ]
    },
    {
      "cell_type": "code",
      "metadata": {
        "id": "gbQDpvxuvqtK",
        "colab_type": "code",
        "outputId": "ae634221-8055-464e-bc8a-b8346389a9a5",
        "colab": {
          "base_uri": "https://localhost:8080/",
          "height": 119
        }
      },
      "source": [
        "#Otra lista revisando las edades\n",
        "#Uso la misma lista alumnos\n",
        "edades=[17,18,24,16,21,23]\n",
        "#len(edades)\n",
        "for e in range(len(edades)):\n",
        "  if edades[e]<18:\n",
        "    print(alumnos[e],'tiene',edades[e],' años y es menor de edad')\n",
        "  else:\n",
        "    print(alumnos[e],'tiene',edades[e],' años y es mayor de edad')"
      ],
      "execution_count": 0,
      "outputs": [
        {
          "output_type": "stream",
          "text": [
            "jose tiene 17  años y es menor de edad\n",
            "pedro tiene 18  años y es mayor de edad\n",
            "carlos tiene 24  años y es mayor de edad\n",
            "antonio tiene 16  años y es menor de edad\n",
            "maria tiene 21  años y es mayor de edad\n",
            "juan tiene 23  años y es mayor de edad\n"
          ],
          "name": "stdout"
        }
      ]
    }
  ]
}