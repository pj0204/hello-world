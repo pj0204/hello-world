{
  "nbformat": 4,
  "nbformat_minor": 0,
  "metadata": {
    "colab": {
      "name": "Cours1.ipynb",
      "provenance": [],
      "collapsed_sections": [],
      "authorship_tag": "ABX9TyMWYMgYE/9eN3mH0em3tmzu",
      "include_colab_link": true
    },
    "kernelspec": {
      "name": "python3",
      "display_name": "Python 3"
    }
  },
  "cells": [
    {
      "cell_type": "markdown",
      "metadata": {
        "id": "view-in-github",
        "colab_type": "text"
      },
      "source": [
        "<a href=\"https://colab.research.google.com/github/pj0204/hello-world/blob/master/Cours1.ipynb\" target=\"_parent\"><img src=\"https://colab.research.google.com/assets/colab-badge.svg\" alt=\"Open In Colab\"/></a>"
      ]
    },
    {
      "cell_type": "code",
      "metadata": {
        "id": "isBpMK3T2gBc",
        "colab_type": "code",
        "colab": {
          "base_uri": "https://localhost:8080/",
          "height": 34
        },
        "outputId": "3704fd28-8e73-42bd-cc91-980f84a6cbb2"
      },
      "source": [
        "2+2\n",
        "123*123\n",
        "x=4;\n",
        "x\n",
        "y=5;\n",
        "x+y\n"
      ],
      "execution_count": 11,
      "outputs": [
        {
          "output_type": "execute_result",
          "data": {
            "text/plain": [
              "9"
            ]
          },
          "metadata": {
            "tags": []
          },
          "execution_count": 11
        }
      ]
    },
    {
      "cell_type": "code",
      "metadata": {
        "id": "8p77SFnI9tsa",
        "colab_type": "code",
        "colab": {
          "base_uri": "https://localhost:8080/",
          "height": 153
        },
        "outputId": "b327f992-0f41-47a2-bf93-67de258cc45a"
      },
      "source": [
        "print(\"Bienvenido a ... \")\n",
        "print(\"\"\"              _                  __\n",
        "   ____ ___  (_)  ________  ____/ /\n",
        "  / __ `__ \\/ /  / ___/ _ \\/ __  /\n",
        " / / / / / / /  / /  /  __/ /_/ /\n",
        "/_/ /_/ /_/_/  /_/   \\___/\\__,_/\n",
        "\n",
        "\"\"\")"
      ],
      "execution_count": 12,
      "outputs": [
        {
          "output_type": "stream",
          "text": [
            "Bienvenido a ... \n",
            "              _                  __\n",
            "   ____ ___  (_)  ________  ____/ /\n",
            "  / __ `__ \\/ /  / ___/ _ \\/ __  /\n",
            " / / / / / / /  / /  /  __/ /_/ /\n",
            "/_/ /_/ /_/_/  /_/   \\___/\\__,_/\n",
            "\n",
            "\n"
          ],
          "name": "stdout"
        }
      ]
    }
  ]
}