{
  "nbformat": 4,
  "nbformat_minor": 0,
  "metadata": {
    "colab": {
      "name": "Copia de Python_principiantes.ipynb",
      "provenance": [],
      "include_colab_link": true
    },
    "kernelspec": {
      "name": "python3",
      "display_name": "Python 3"
    }
  },
  "cells": [
    {
      "cell_type": "markdown",
      "metadata": {
        "id": "view-in-github",
        "colab_type": "text"
      },
      "source": [
        "<a href=\"https://colab.research.google.com/github/pj0204/hello-world/blob/master/PhytonLesson1.ipynb\" target=\"_parent\"><img src=\"https://colab.research.google.com/assets/colab-badge.svg\" alt=\"Open In Colab\"/></a>"
      ]
    },
    {
      "cell_type": "code",
      "metadata": {
        "colab_type": "code",
        "id": "J0P2LuztH3cR",
        "colab": {}
      },
      "source": [
        ""
      ],
      "execution_count": 0,
      "outputs": []
    },
    {
      "cell_type": "markdown",
      "metadata": {
        "colab_type": "text",
        "id": "Zau5-miLH2LQ"
      },
      "source": [
        "\n",
        "\n",
        "**BIENVENIDOS AL TALLER DE PYTHON**\n",
        "\n",
        "\n",
        "\n",
        "\n",
        "*   ¿Qué es Python?\n",
        "\n",
        "> Es un lenguaje de programación de **propósito general**. Creado por Guido van Rossum y lanzado en  1991. Su filosofía se centra en ser de fácil lectura.\n",
        "\n",
        "\n",
        "*   ¿Y qué es un lenguaje de programación?\n",
        "> Es el medio de comunicación entre el programador y la computadora, y sirve de intermediario para que el programador pueda dar órdenes a la computadora. Por ejemplo, si deseo que la computadora muestre el mensaje \"Hola, soy Ruben y amo Python\", deberé ejecutar lo siguiente:\n",
        "\n",
        "\n"
      ]
    },
    {
      "cell_type": "code",
      "metadata": {
        "id": "Z2lF7Zv7VANr",
        "colab_type": "code",
        "outputId": "7d68367f-92bd-40a3-bb50-a0f17adfab3c",
        "colab": {
          "base_uri": "https://localhost:8080/",
          "height": 35
        }
      },
      "source": [
        "print('Hola, soy Ruben y amo Python')"
      ],
      "execution_count": 0,
      "outputs": [
        {
          "output_type": "stream",
          "text": [
            "Hola, soy Ruben y amo Python\n"
          ],
          "name": "stdout"
        }
      ]
    },
    {
      "cell_type": "markdown",
      "metadata": {
        "id": "6XGvmqKSXDwz",
        "colab_type": "text"
      },
      "source": [
        "Puedes mostrar cualquier tipo de mensaje que desees:"
      ]
    },
    {
      "cell_type": "code",
      "metadata": {
        "id": "VJmT7511XH_Y",
        "colab_type": "code",
        "outputId": "7ba6e17c-2a1e-4f94-a7d7-783acee3dc1a",
        "colab": {
          "base_uri": "https://localhost:8080/",
          "height": 35
        }
      },
      "source": [
        "print('Data Science Research Peru es genial')"
      ],
      "execution_count": 0,
      "outputs": [
        {
          "output_type": "stream",
          "text": [
            "Data Science Research Peru es genial\n"
          ],
          "name": "stdout"
        }
      ]
    },
    {
      "cell_type": "markdown",
      "metadata": {
        "id": "VCG6ELHHXN7B",
        "colab_type": "text"
      },
      "source": [
        "**Variables**\n",
        "\n",
        "Podemos trabajar con diferentes tipos de variables en Python para diferentes propósitos:"
      ]
    },
    {
      "cell_type": "code",
      "metadata": {
        "id": "YLHxBbQCX4xn",
        "colab_type": "code",
        "colab": {}
      },
      "source": [
        "#Edita esto con tu informacion\n",
        "\n",
        "nombre='Alfredo'\n",
        "raza='Sayayin' #mejor obviamos esto\n",
        "edad=50\n",
        "masa=70.9\n"
      ],
      "execution_count": 0,
      "outputs": []
    },
    {
      "cell_type": "markdown",
      "metadata": {
        "id": "gv8Yft2HZR0y",
        "colab_type": "text"
      },
      "source": [
        "Al ejecutar el código no apreciaremos cambios, puesto que no hemos declarado la orden de mostrar en la pantalla."
      ]
    },
    {
      "cell_type": "code",
      "metadata": {
        "id": "WPTzju2nYQJh",
        "colab_type": "code",
        "outputId": "13d0053f-d76c-4d41-df3e-bb0ba5edeb77",
        "colab": {
          "base_uri": "https://localhost:8080/",
          "height": 35
        }
      },
      "source": [
        "print('Mi nombre es ',nombre,' .Tengo ',edad,'y mi masa es de ',masa,'kg')\n",
        "#Ahora cambie el mensaje y ponga la info de su compañero del costado, no sea tímido en socializar por favor."
      ],
      "execution_count": 0,
      "outputs": [
        {
          "output_type": "stream",
          "text": [
            "Mi nombre es  Alfredo  .Tengo  50 y mi masa es de  70.9 kg\n"
          ],
          "name": "stdout"
        }
      ]
    },
    {
      "cell_type": "markdown",
      "metadata": {
        "id": "XdNfAxDUaAOb",
        "colab_type": "text"
      },
      "source": [
        "Ahora centrémonos en las variables numéricas para realizar algunas operaciones"
      ]
    },
    {
      "cell_type": "code",
      "metadata": {
        "id": "jE7JOUQtZ_y6",
        "colab_type": "code",
        "outputId": "30f1cb6c-0e7e-498a-ad86-8804cf4218a1",
        "colab": {
          "base_uri": "https://localhost:8080/",
          "height": 108
        }
      },
      "source": [
        "#Declaro las variables\n",
        "x=-23.3\n",
        "y=89.8\n",
        "#Creo una nueva variable que sea la suma de las otras\n",
        "z=x+y\n",
        "#Si ejecuto hasta aquí no veré el resultado, recuerda indicar que quieres ver en la pantalla\n",
        "print('el valor de x es: ',x)\n",
        "print('el valor de y es: ',y)\n",
        "print('La suma es: ',z)\n",
        "#Intenta con otras operaciones \n",
        "resta=x-y\n",
        "producto=x*y\n",
        "print('la resta es: ',resta)\n",
        "print('el producto es: ',producto)"
      ],
      "execution_count": 0,
      "outputs": [
        {
          "output_type": "stream",
          "text": [
            "el valor de x es:  -23.3\n",
            "el valor de y es:  89.8\n",
            "La suma es:  66.5\n",
            "la resta es:  -113.1\n",
            "el producto es:  -2092.34\n"
          ],
          "name": "stdout"
        }
      ]
    },
    {
      "cell_type": "markdown",
      "metadata": {
        "id": "VdojfGpEairQ",
        "colab_type": "text"
      },
      "source": [
        "Solamente Python no posee la funcionalidad necesario para realizar operaciones mas complejas. Para esto recurrimos al uso de librerías."
      ]
    },
    {
      "cell_type": "code",
      "metadata": {
        "id": "Qzdf9KLKatic",
        "colab_type": "code",
        "outputId": "e7425eb2-2a6b-4ad6-f923-eb47c138c1d2",
        "colab": {
          "base_uri": "https://localhost:8080/",
          "height": 35
        }
      },
      "source": [
        "import math #Esta es la libreria que incluye funciones matemáticas, debes revisar la documentacion para mas detalles\n",
        "#numpy matplotlib scikit opencv\n",
        "valor=9\n",
        "\n",
        "resultado=math.factorial(valor)\n",
        "print('el resultado es: ',resultado)\n",
        "#print(math.gcd(18,24))\n",
        "#print(math.exp(3))\n"
      ],
      "execution_count": 0,
      "outputs": [
        {
          "output_type": "stream",
          "text": [
            "el resultado es:  362880\n"
          ],
          "name": "stdout"
        }
      ]
    },
    {
      "cell_type": "markdown",
      "metadata": {
        "id": "J8Gl0qcKboPL",
        "colab_type": "text"
      },
      "source": [
        "Existe una gran variedad de funciones dentro de la librería math, para cálculos con números complejos usamos cmath. Hay un gran número de librerías (para cálculos numéricos, simbólicos, estadísticos, financieros, econométricos, etc.)"
      ]
    },
    {
      "cell_type": "markdown",
      "metadata": {
        "id": "0dAwdtLXcKhi",
        "colab_type": "text"
      },
      "source": [
        "\n",
        "\n",
        "> ¿Es entonces Python una calculadora? No. Si las funcionalidades se limitaran a esto, no habría mucha diferencia entre una calculadora científica. Los lenguajes de programación poseen sentencias llamadas **estructuras de control**, esta proporciona una potencialidad superior.\n",
        "\n",
        "\n"
      ]
    },
    {
      "cell_type": "markdown",
      "metadata": {
        "id": "i9hIe_rCct6Q",
        "colab_type": "text"
      },
      "source": [
        "# Condicionales \n",
        "Es una estructura de control. Si se cumple una condición se efectua una acción, caso contrario se efectua otra.\n",
        "\n",
        "\n",
        "\n",
        "```\n",
        " if (condicion es verdadera) :\n",
        "      Ejecutar accion\n",
        "  else:\n",
        "      Ejecutar otra accion\n",
        "```\n",
        "Por ejemplo:\n",
        "\n",
        "\n",
        "\n",
        "```\n",
        " if (nota_final > 14) :\n",
        "      Ir de fiesta \n",
        "  else:\n",
        "      Llorar en casa\n",
        "```\n",
        "\n",
        "\n",
        "\n"
      ]
    },
    {
      "cell_type": "code",
      "metadata": {
        "id": "EiA2KwZsi7r4",
        "colab_type": "code",
        "outputId": "9ace26b6-5e69-4942-9438-491cfa29367d",
        "colab": {
          "base_uri": "https://localhost:8080/",
          "height": 35
        }
      },
      "source": [
        "#Ejemplo que mostrará si una persona es mayor o menor de edad\n",
        "mi_edad = 14\n",
        "\n",
        "if mi_edad > 18 :\n",
        "  print('Eres mayor de edad')\n",
        "else:\n",
        "  print('Eres menor de edad')"
      ],
      "execution_count": 0,
      "outputs": [
        {
          "output_type": "stream",
          "text": [
            "Eres menor de edad\n"
          ],
          "name": "stdout"
        }
      ]
    },
    {
      "cell_type": "code",
      "metadata": {
        "id": "21Xw2dOdlApZ",
        "colab_type": "code",
        "colab": {}
      },
      "source": [
        "#Ejercicio: Crearemos 3 variables (nota1, nota2 y nota3) y verificaremos si el promedio final es mayor a 14\n"
      ],
      "execution_count": 0,
      "outputs": []
    },
    {
      "cell_type": "markdown",
      "metadata": {
        "id": "Q_Xm4P27mprQ",
        "colab_type": "text"
      },
      "source": [
        "Es posible añadir más condiciones.\n",
        "\n",
        "\n",
        "```\n",
        "if (condicion 1):\n",
        "  Accion 1\n",
        "elif (condicion 2):\n",
        "  Accion 2\n",
        "elif (condicion 3):\n",
        "  Accion 3\n",
        "else:\n",
        "  Accion 4\n",
        "```\n",
        "Veamos un ejemplo: Supongamos que la variable **gastos** puede tomar los siguientes valores, y dependiendo a cada valor se imprime un mensaje\n",
        "\n",
        "\n",
        "\n",
        "```\n",
        "if gastos=1000:\n",
        "  Eres buen ahorrador\n",
        "elif gastos=1500:\n",
        "  Puedes ahorrar mas\n",
        "elif gastos=2500:\n",
        "  Estas gastando mucho dinero\n",
        "elif gastos=5000:\n",
        "  Necesitas urgentemente buscar ayuda para ahorrar\n",
        "else:\n",
        "  Estarás en la quiebra en menos de una semana\n",
        "```\n",
        "\n",
        "\n"
      ]
    },
    {
      "cell_type": "code",
      "metadata": {
        "id": "nHiJEMjGmpRB",
        "colab_type": "code",
        "colab": {}
      },
      "source": [
        "#Ejercicio: Crea la variable A y B, compáralos e imprime un mensaje de \"A es mayor\", \n",
        "#\"B es mayor\" o \"son iguales\" según corresponda."
      ],
      "execution_count": 0,
      "outputs": []
    },
    {
      "cell_type": "markdown",
      "metadata": {
        "id": "7qUEH5OOsMOh",
        "colab_type": "text"
      },
      "source": [
        "# Bucles\n",
        "Imagina que se te asigna la tarea de escribir los números de 1 al 5. ¿Cuál sería tu solución?"
      ]
    },
    {
      "cell_type": "code",
      "metadata": {
        "id": "g_13kefHvhrz",
        "colab_type": "code",
        "outputId": "288dd748-cdca-4ab1-fb83-7adac81eef1b",
        "colab": {
          "base_uri": "https://localhost:8080/",
          "height": 108
        }
      },
      "source": [
        "print(0)\n",
        "print(1)\n",
        "print(2)\n",
        "print(3)\n",
        "print(4)"
      ],
      "execution_count": 0,
      "outputs": [
        {
          "output_type": "stream",
          "text": [
            "0\n",
            "1\n",
            "2\n",
            "3\n",
            "4\n"
          ],
          "name": "stdout"
        }
      ]
    },
    {
      "cell_type": "markdown",
      "metadata": {
        "id": "HrGgbBIkvsFp",
        "colab_type": "text"
      },
      "source": [
        "Pero si se te solicita que lo hagas hasta el 100, esto se vuelve mas tedioso. La nueva estructura de control de la que hablaremos será los bucles FOR"
      ]
    },
    {
      "cell_type": "markdown",
      "metadata": {
        "id": "U5A9M47g3Acb",
        "colab_type": "text"
      },
      "source": [
        "\n",
        "\n",
        "```\n",
        "for i in range(n):\n",
        "  accion a ejecutar desde i hasta n-1\n",
        "\n",
        "```\n",
        "Por defecto i inicia en 0 y culmina antes de n. Pero podemos modificar este comportamiento.\n"
      ]
    },
    {
      "cell_type": "code",
      "metadata": {
        "id": "1uAVwJZS1b0l",
        "colab_type": "code",
        "outputId": "ab17226c-7209-4b93-d213-a3cd547a0040",
        "colab": {
          "base_uri": "https://localhost:8080/",
          "height": 108
        }
      },
      "source": [
        "for i in range(5): #vamos a cambiar esto en cualquier momento\n",
        "  print(i)"
      ],
      "execution_count": 0,
      "outputs": [
        {
          "output_type": "stream",
          "text": [
            "0\n",
            "1\n",
            "2\n",
            "3\n",
            "4\n"
          ],
          "name": "stdout"
        }
      ]
    },
    {
      "cell_type": "code",
      "metadata": {
        "id": "d9cf0zqv1o9d",
        "colab_type": "code",
        "outputId": "9614d9be-fd52-4566-8411-1981b22f3c70",
        "colab": {
          "base_uri": "https://localhost:8080/",
          "height": 345
        }
      },
      "source": [
        "for i in range(1,19):\n",
        "  print(i)"
      ],
      "execution_count": 0,
      "outputs": [
        {
          "output_type": "stream",
          "text": [
            "1\n",
            "2\n",
            "3\n",
            "4\n",
            "5\n",
            "6\n",
            "7\n",
            "8\n",
            "9\n",
            "10\n",
            "11\n",
            "12\n",
            "13\n",
            "14\n",
            "15\n",
            "16\n",
            "17\n",
            "18\n"
          ],
          "name": "stdout"
        }
      ]
    },
    {
      "cell_type": "code",
      "metadata": {
        "id": "POA18_EE3pVM",
        "colab_type": "code",
        "outputId": "d5fc47a7-ad6a-43ef-a0a1-b45f0e6a17e1",
        "colab": {
          "base_uri": "https://localhost:8080/",
          "height": 90
        }
      },
      "source": [
        "for i in range(10,2,-2):\n",
        "  print(i)"
      ],
      "execution_count": 0,
      "outputs": [
        {
          "output_type": "stream",
          "text": [
            "10\n",
            "8\n",
            "6\n",
            "4\n"
          ],
          "name": "stdout"
        }
      ]
    },
    {
      "cell_type": "code",
      "metadata": {
        "id": "LhaU5mcU5Frx",
        "colab_type": "code",
        "colab": {}
      },
      "source": [
        "#Ejercicio: mostrar los números del múltiplos de 3 hasta el 100. Es decir 3,6,9,12..."
      ],
      "execution_count": 0,
      "outputs": []
    },
    {
      "cell_type": "code",
      "metadata": {
        "id": "HyhTTKMU5bX7",
        "colab_type": "code",
        "outputId": "7a5ee4a0-36e5-45ef-d54e-16664de2467a",
        "colab": {
          "base_uri": "https://localhost:8080/",
          "height": 199
        }
      },
      "source": [
        "#Hacer una  tabla de multiplicar del 2 usando el bucle for\n"
      ],
      "execution_count": 0,
      "outputs": [
        {
          "output_type": "stream",
          "text": [
            "0 X 2 = 0\n",
            "1 X 2 = 2\n",
            "2 X 2 = 4\n",
            "3 X 2 = 6\n",
            "4 X 2 = 8\n",
            "5 X 2 = 10\n",
            "6 X 2 = 12\n",
            "7 X 2 = 14\n",
            "8 X 2 = 16\n",
            "9 X 2 = 18\n"
          ],
          "name": "stdout"
        }
      ]
    }
  ]
}