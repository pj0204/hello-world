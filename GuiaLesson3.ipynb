{
  "nbformat": 4,
  "nbformat_minor": 0,
  "metadata": {
    "colab": {
      "name": "Untitled3.ipynb",
      "provenance": [],
      "include_colab_link": true
    },
    "kernelspec": {
      "name": "python3",
      "display_name": "Python 3"
    }
  },
  "cells": [
    {
      "cell_type": "markdown",
      "metadata": {
        "id": "view-in-github",
        "colab_type": "text"
      },
      "source": [
        "<a href=\"https://colab.research.google.com/github/pj0204/hello-world/blob/master/GuiaLesson3.ipynb\" target=\"_parent\"><img src=\"https://colab.research.google.com/assets/colab-badge.svg\" alt=\"Open In Colab\"/></a>"
      ]
    },
    {
      "cell_type": "code",
      "metadata": {
        "id": "fQ0UaKnw8KSj",
        "colab_type": "code",
        "outputId": "64e8c638-f960-4ef8-b67d-8ae22b9e61c0",
        "colab": {
          "base_uri": "https://localhost:8080/",
          "height": 68
        }
      },
      "source": [
        "#Vamos a estudiar listas\n",
        "lista = [12,43,78] #mismo  tipo de elementos - numeros enteros\n",
        "lista2=['homero','marge','bart'] #cadenas de texto\n",
        "lista3=['pepito',16,1.87] #diferentes tipos de datos\n",
        "print(lista)\n",
        "print(lista2)\n",
        "print(lista3)"
      ],
      "execution_count": 0,
      "outputs": [
        {
          "output_type": "stream",
          "text": [
            "[12, 43, 78]\n",
            "['homero', 'marge', 'bart']\n",
            "['pepito', 16, 1.87]\n"
          ],
          "name": "stdout"
        }
      ]
    },
    {
      "cell_type": "code",
      "metadata": {
        "id": "Tr-q_PAa9cC5",
        "colab_type": "code",
        "outputId": "8f417e5d-7e26-42ea-d0c1-aace99948f60",
        "colab": {
          "base_uri": "https://localhost:8080/",
          "height": 51
        }
      },
      "source": [
        "nombres=['jose','martin','salvador']\n",
        "edad=[43,56,49]\n",
        "universidad=['ucsm','uni','pucp']\n",
        "#acceder al primer elemento\n",
        "print('el primer elemento de la lista nombres es ',nombres[0])\n",
        "#longitud de una lista\n",
        "print('la longitud de la lista nombres es ', len(nombres))"
      ],
      "execution_count": 0,
      "outputs": [
        {
          "output_type": "stream",
          "text": [
            "el primer elemento de la lista nombres es  jose\n",
            "la longitud de la lista nombres es  3\n"
          ],
          "name": "stdout"
        }
      ]
    },
    {
      "cell_type": "code",
      "metadata": {
        "id": "9wVvKOT3-vuo",
        "colab_type": "code",
        "outputId": "fb4e6053-f579-44bc-a00d-869e46beae7f",
        "colab": {
          "base_uri": "https://localhost:8080/",
          "height": 68
        }
      },
      "source": [
        "#recorrer una lista\n",
        "for i in range(3):\n",
        "  print(i,nombres[i])"
      ],
      "execution_count": 0,
      "outputs": [
        {
          "output_type": "stream",
          "text": [
            "0 jose\n",
            "1 martin\n",
            "2 salvador\n"
          ],
          "name": "stdout"
        }
      ]
    },
    {
      "cell_type": "code",
      "metadata": {
        "id": "vbh-715P_djL",
        "colab_type": "code",
        "outputId": "60e64339-70cd-4fa4-a28c-65697093df53",
        "colab": {
          "base_uri": "https://localhost:8080/",
          "height": 68
        }
      },
      "source": [
        "for j in range(len(nombres)):\n",
        "  print(nombres[j],'tiene',edad[j],'años, y estudia en',universidad[j])"
      ],
      "execution_count": 0,
      "outputs": [
        {
          "output_type": "stream",
          "text": [
            "jose tiene 43 años, y estudia en ucsm\n",
            "martin tiene 56 años, y estudia en uni\n",
            "salvador tiene 49 años, y estudia en pucp\n"
          ],
          "name": "stdout"
        }
      ]
    },
    {
      "cell_type": "code",
      "metadata": {
        "id": "N36GrX4-AiNC",
        "colab_type": "code",
        "colab": {}
      },
      "source": [
        "#añadir elementos a una lista\n",
        "nombres.append('juanito')\n",
        "edad.append(18)\n",
        "universidad.append('de la vida')\n"
      ],
      "execution_count": 0,
      "outputs": []
    },
    {
      "cell_type": "code",
      "metadata": {
        "id": "u_IepqMbA_UF",
        "colab_type": "code",
        "outputId": "84d51d51-db6c-42d9-c0c9-7d2e36f2a4eb",
        "colab": {
          "base_uri": "https://localhost:8080/",
          "height": 68
        }
      },
      "source": [
        "print(nombres)\n",
        "print(edad)\n",
        "print(universidad)"
      ],
      "execution_count": 0,
      "outputs": [
        {
          "output_type": "stream",
          "text": [
            "['jose', 'martin', 'salvador', 'juanito']\n",
            "[43, 56, 49, 18]\n",
            "['ucsm', 'uni', 'pucp', 'de la vida']\n"
          ],
          "name": "stdout"
        }
      ]
    },
    {
      "cell_type": "code",
      "metadata": {
        "id": "XZ5LZTVMBVci",
        "colab_type": "code",
        "outputId": "7bdc661b-b1ad-47b1-e315-8a562d2617e3",
        "colab": {
          "base_uri": "https://localhost:8080/",
          "height": 34
        }
      },
      "source": [
        "#quiero saber el indice de un elemento\n",
        "universidad.index('uni')"
      ],
      "execution_count": 0,
      "outputs": [
        {
          "output_type": "execute_result",
          "data": {
            "text/plain": [
              "1"
            ]
          },
          "metadata": {
            "tags": []
          },
          "execution_count": 28
        }
      ]
    },
    {
      "cell_type": "code",
      "metadata": {
        "id": "VhJy4IqWBzoP",
        "colab_type": "code",
        "outputId": "00145835-1f9a-466b-8a0e-e496386ec0ad",
        "colab": {
          "base_uri": "https://localhost:8080/",
          "height": 136
        }
      },
      "source": [
        "alumnos=['alice','bob','claudio','dionisio','erica','fiorela','gregorio']\n",
        "calificacion=[19,18,10,14,14,20,12]\n",
        "\n",
        "for i in range(len(calificacion)):\n",
        "  #print(calificacion[i])  = < >\n",
        "  if calificacion[i] < 14:\n",
        "    print(alumnos[i],'desaprobado')\n",
        "  else:\n",
        "    print(alumnos[i],'aprobado')\n",
        "\n",
        "#crear una lista de nombres\n",
        "#crear una lista de apellidos\n",
        "#edad\n",
        "#corroborar si es mayor o menor de edad\n",
        "# ruben tupayachi es mayor de edad\n",
        "# jose perez es menor de edad"
      ],
      "execution_count": 0,
      "outputs": [
        {
          "output_type": "stream",
          "text": [
            "alice aprobado\n",
            "bob aprobado\n",
            "claudio desaprobado\n",
            "dionisio aprobado\n",
            "erica aprobado\n",
            "fiorela aprobado\n",
            "gregorio desaprobado\n"
          ],
          "name": "stdout"
        }
      ]
    },
    {
      "cell_type": "code",
      "metadata": {
        "id": "OhT4ksthERvN",
        "colab_type": "code",
        "outputId": "110bfdf9-35db-4e00-9195-7684c746a026",
        "colab": {
          "base_uri": "https://localhost:8080/",
          "height": 51
        }
      },
      "source": [
        "#LIBRERIA NUMPY\n",
        "import numpy as np\n",
        "\n",
        "V=np.array([1,2,3])\n",
        "print(V)\n",
        "\n",
        "S=np.array([3,4,5])\n",
        "print(S)"
      ],
      "execution_count": 0,
      "outputs": [
        {
          "output_type": "stream",
          "text": [
            "[1 2 3]\n",
            "[3 4 5]\n"
          ],
          "name": "stdout"
        }
      ]
    },
    {
      "cell_type": "code",
      "metadata": {
        "id": "yz8pXqkbFaCT",
        "colab_type": "code",
        "outputId": "1dc770ea-1a56-4a2d-cda2-961eeaaa1aef",
        "colab": {
          "base_uri": "https://localhost:8080/",
          "height": 51
        }
      },
      "source": [
        "#Operaciones\n",
        "print(V+S)\n",
        "#producto escalar 1*3 + 2*4 + 3*5\n",
        "PE=V.dot(S)\n",
        "print(PE)"
      ],
      "execution_count": 0,
      "outputs": [
        {
          "output_type": "stream",
          "text": [
            "[4 6 8]\n",
            "26\n"
          ],
          "name": "stdout"
        }
      ]
    },
    {
      "cell_type": "code",
      "metadata": {
        "id": "QTiEKi6MGN9J",
        "colab_type": "code",
        "outputId": "4c793d99-cefc-473b-caae-355d0f99e210",
        "colab": {
          "base_uri": "https://localhost:8080/",
          "height": 51
        }
      },
      "source": [
        "#acceder a elementos\n",
        "print(V[0])\n",
        "print(S[1])"
      ],
      "execution_count": 0,
      "outputs": [
        {
          "output_type": "stream",
          "text": [
            "1\n",
            "4\n"
          ],
          "name": "stdout"
        }
      ]
    },
    {
      "cell_type": "code",
      "metadata": {
        "id": "QP2bNu4zGaUq",
        "colab_type": "code",
        "outputId": "1882a2a7-c6eb-4f0c-d201-08411fbf2992",
        "colab": {
          "base_uri": "https://localhost:8080/",
          "height": 153
        }
      },
      "source": [
        "#Matrices \n",
        "A=np.array([[1,9,10],[7,12,21],[9,7,1]])\n",
        "print('Esta es la matriz A')\n",
        "print(A)\n",
        "\n",
        "B=np.array([[3,4,34],[5,6,2],[1,2,3]])\n",
        "print('esta es la matriz B')\n",
        "print(B)"
      ],
      "execution_count": 0,
      "outputs": [
        {
          "output_type": "stream",
          "text": [
            "Esta es la matriz A\n",
            "[[ 1  9 10]\n",
            " [ 7 12 21]\n",
            " [ 9  7  1]]\n",
            "esta es la matriz B\n",
            "[[ 3  4 34]\n",
            " [ 5  6  2]\n",
            " [ 1  2  3]]\n"
          ],
          "name": "stdout"
        }
      ]
    },
    {
      "cell_type": "code",
      "metadata": {
        "id": "zN4fVtcIHRbn",
        "colab_type": "code",
        "outputId": "780f6afa-2eae-44bf-b875-2dcfcc345e44",
        "colab": {
          "base_uri": "https://localhost:8080/",
          "height": 102
        }
      },
      "source": [
        "#Elementos en A y B\n",
        "print(A[1][0])\n",
        "print(B[1][2])\n",
        "#acceder a una fila\n",
        "print(A[2])\n",
        "print(B[0])\n",
        "#acceder a una columna\n",
        "print(B[:,2])"
      ],
      "execution_count": 0,
      "outputs": [
        {
          "output_type": "stream",
          "text": [
            "7\n",
            "2\n",
            "[9 7 1]\n",
            "[ 3  4 34]\n",
            "[34  2  3]\n"
          ],
          "name": "stdout"
        }
      ]
    },
    {
      "cell_type": "code",
      "metadata": {
        "id": "Df6U2hvkIQL0",
        "colab_type": "code",
        "outputId": "e038608c-b688-4d1e-c5b5-21108784438e",
        "colab": {
          "base_uri": "https://localhost:8080/",
          "height": 85
        }
      },
      "source": [
        "#operaciones con matrices\n",
        "print('sumar A + B')\n",
        "C=A+B\n",
        "print(C)"
      ],
      "execution_count": 0,
      "outputs": [
        {
          "output_type": "stream",
          "text": [
            "sumar A + B\n",
            "[[ 4 13 44]\n",
            " [12 18 23]\n",
            " [10  9  4]]\n"
          ],
          "name": "stdout"
        }
      ]
    },
    {
      "cell_type": "code",
      "metadata": {
        "id": "6NzPP2NHIqEK",
        "colab_type": "code",
        "outputId": "432327d2-f5a7-4daf-e859-1df0a1ce4b0d",
        "colab": {
          "base_uri": "https://localhost:8080/",
          "height": 68
        }
      },
      "source": [
        "#producto de matrices\n",
        "D=A.dot(B)\n",
        "print(D)"
      ],
      "execution_count": 0,
      "outputs": [
        {
          "output_type": "stream",
          "text": [
            "[[ 58  78  82]\n",
            " [102 142 325]\n",
            " [ 63  80 323]]\n"
          ],
          "name": "stdout"
        }
      ]
    },
    {
      "cell_type": "code",
      "metadata": {
        "id": "yU36mnxRI3RI",
        "colab_type": "code",
        "outputId": "baf2f6a1-000a-4afb-9ddd-a93a0eac2feb",
        "colab": {
          "base_uri": "https://localhost:8080/",
          "height": 119
        }
      },
      "source": [
        "#matriz identidad\n",
        "print('esta es una matriz identidad')\n",
        "I=np.eye(5)\n",
        "print(I)"
      ],
      "execution_count": 0,
      "outputs": [
        {
          "output_type": "stream",
          "text": [
            "esta es una matriz identidad\n",
            "[[1. 0. 0. 0. 0.]\n",
            " [0. 1. 0. 0. 0.]\n",
            " [0. 0. 1. 0. 0.]\n",
            " [0. 0. 0. 1. 0.]\n",
            " [0. 0. 0. 0. 1.]]\n"
          ],
          "name": "stdout"
        }
      ]
    },
    {
      "cell_type": "code",
      "metadata": {
        "id": "p5dzMXPiJNtI",
        "colab_type": "code",
        "outputId": "49431d72-375c-4eab-c818-ae5ea96e316a",
        "colab": {
          "base_uri": "https://localhost:8080/",
          "height": 221
        }
      },
      "source": [
        "#Arrays utiles\n",
        "R=np.arange(-100,100,2) #valor iniciar - valor final - pasos\n",
        "print('array usando arange')\n",
        "print(R)\n",
        "T=np.linspace(0,10,10)\n",
        "print('array usando linspace')\n",
        "print(T)"
      ],
      "execution_count": 0,
      "outputs": [
        {
          "output_type": "stream",
          "text": [
            "array usando arange\n",
            "[-100  -98  -96  -94  -92  -90  -88  -86  -84  -82  -80  -78  -76  -74\n",
            "  -72  -70  -68  -66  -64  -62  -60  -58  -56  -54  -52  -50  -48  -46\n",
            "  -44  -42  -40  -38  -36  -34  -32  -30  -28  -26  -24  -22  -20  -18\n",
            "  -16  -14  -12  -10   -8   -6   -4   -2    0    2    4    6    8   10\n",
            "   12   14   16   18   20   22   24   26   28   30   32   34   36   38\n",
            "   40   42   44   46   48   50   52   54   56   58   60   62   64   66\n",
            "   68   70   72   74   76   78   80   82   84   86   88   90   92   94\n",
            "   96   98]\n",
            "array usando linspace\n",
            "[ 0.          1.11111111  2.22222222  3.33333333  4.44444444  5.55555556\n",
            "  6.66666667  7.77777778  8.88888889 10.        ]\n"
          ],
          "name": "stdout"
        }
      ]
    }
  ]
}